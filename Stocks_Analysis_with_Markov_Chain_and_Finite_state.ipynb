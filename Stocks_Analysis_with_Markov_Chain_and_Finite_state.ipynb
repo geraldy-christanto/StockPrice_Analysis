{
  "nbformat": 4,
  "nbformat_minor": 0,
  "metadata": {
    "colab": {
      "name": "Stocks Analysis with Markov Chain and Finite state.ipynb",
      "provenance": [],
      "collapsed_sections": []
    },
    "kernelspec": {
      "name": "python3",
      "display_name": "Python 3"
    }
  },
  "cells": [
    {
      "cell_type": "markdown",
      "metadata": {
        "id": "XI2F8XeaMzAM",
        "colab_type": "text"
      },
      "source": [
        "#TUGAS PROBABILITAS DAN PROSES STOKASTIK\n",
        "\n",
        "---\n",
        "\n",
        "1. Geraldy Christanto\n",
        "2. Achmad Faiz Siraj\n",
        "3. Muhammad Koku\n"
      ]
    },
    {
      "cell_type": "markdown",
      "metadata": {
        "id": "wQAP-5QPixLF",
        "colab_type": "text"
      },
      "source": [
        "**WSKT**"
      ]
    },
    {
      "cell_type": "markdown",
      "metadata": {
        "id": "j6qL3mf02G-o",
        "colab_type": "text"
      },
      "source": [
        "Import Library"
      ]
    },
    {
      "cell_type": "code",
      "metadata": {
        "id": "z_XWMPTo1vHj",
        "colab_type": "code",
        "colab": {}
      },
      "source": [
        "import plotly.graph_objs as go\n",
        "import plotly.tools as tools\n",
        "\n",
        "import plotly.figure_factory as FF\n",
        "import plotly as py\n",
        "import numpy as np\n",
        "import pandas as pd\n",
        "import scipy"
      ],
      "execution_count": 0,
      "outputs": []
    },
    {
      "cell_type": "markdown",
      "metadata": {
        "id": "QfFLCaOkr1hq",
        "colab_type": "text"
      },
      "source": [
        "Import File from Github"
      ]
    },
    {
      "cell_type": "code",
      "metadata": {
        "id": "-N-Yk0oPeeMk",
        "colab_type": "code",
        "colab": {}
      },
      "source": [
        "df1 = pd.read_csv (r'https://github.com/AFSiraj/Probstok/raw/master/Salinan%20WSKT.JK.csv') \n",
        "df2 = pd.read_csv (r'https://raw.githubusercontent.com/AFSiraj/Probstok/master/UNVR.JK.csv')\n",
        "df3 = pd.read_csv (r'https://raw.githubusercontent.com/AFSiraj/Probstok/master/INCO.JK.csv')"
      ],
      "execution_count": 0,
      "outputs": []
    },
    {
      "cell_type": "markdown",
      "metadata": {
        "id": "5rTusBQssvoe",
        "colab_type": "text"
      },
      "source": [
        "Deskripsi data\n",
        "*   df1 = WSKT\n",
        "*   df2 = UNVR\n",
        "*   df3 = INCO\n",
        "<br><br>\n",
        "Total : 484 Trading days"
      ]
    },
    {
      "cell_type": "code",
      "metadata": {
        "id": "A3KwChTgr7FS",
        "colab_type": "code",
        "colab": {}
      },
      "source": [
        "wskt = df1.dropna()\n",
        "wskt = wskt.reset_index(drop=True)\n",
        "\n",
        "unvr = df2.dropna()\n",
        "unvr = unvr.reset_index(drop=True)\n",
        "\n",
        "inco = df3.dropna()\n",
        "inco = inco.reset_index(drop=True)\n",
        "\n"
      ],
      "execution_count": 0,
      "outputs": []
    },
    {
      "cell_type": "code",
      "metadata": {
        "id": "-OFCdgwzvu76",
        "colab_type": "code",
        "outputId": "d000bcd3-c50a-4560-8dcb-c21c35e80e45",
        "colab": {
          "base_uri": "https://localhost:8080/",
          "height": 54
        }
      },
      "source": [
        "print ('We have daily closing price for each company in the period of three years'\n",
        "', from 13th November 2014 until 14th November 2016, ', (len(wskt)) , \"trading days\")"
      ],
      "execution_count": 62,
      "outputs": [
        {
          "output_type": "stream",
          "text": [
            "We have daily closing price for each company in the period of three years, from 13th November 2014 until 14th November 2016,  484 trading days\n"
          ],
          "name": "stdout"
        }
      ]
    },
    {
      "cell_type": "markdown",
      "metadata": {
        "id": "jfIaZnqE4lp_",
        "colab_type": "text"
      },
      "source": [
        "**WSKT**"
      ]
    },
    {
      "cell_type": "code",
      "metadata": {
        "id": "yXAcmKMo2zKS",
        "colab_type": "code",
        "outputId": "c326d6c3-7cde-44eb-871a-b53a7a185c08",
        "colab": {
          "base_uri": "https://localhost:8080/",
          "height": 221
        }
      },
      "source": [
        "wskt1 = wskt['Adj Close']\n",
        "\n",
        "wskt1"
      ],
      "execution_count": 77,
      "outputs": [
        {
          "output_type": "execute_result",
          "data": {
            "text/plain": [
              "0       876.59\n",
              "1       876.59\n",
              "2       898.73\n",
              "3       920.86\n",
              "4       912.01\n",
              "        ...   \n",
              "479    2293.12\n",
              "480    2256.28\n",
              "481    2302.33\n",
              "482    2219.45\n",
              "483    2108.93\n",
              "Name: Adj Close, Length: 484, dtype: float64"
            ]
          },
          "metadata": {
            "tags": []
          },
          "execution_count": 77
        }
      ]
    },
    {
      "cell_type": "markdown",
      "metadata": {
        "id": "aSR_SSrS4n4D",
        "colab_type": "text"
      },
      "source": [
        "**UNVR**"
      ]
    },
    {
      "cell_type": "code",
      "metadata": {
        "id": "HpJoIOz04qC-",
        "colab_type": "code",
        "outputId": "21ce6dc5-6cf5-4dd4-c1f4-0f3d29909bb6",
        "colab": {
          "base_uri": "https://localhost:8080/",
          "height": 119
        }
      },
      "source": [
        "unvr1 = unvr['Adj Close']\n",
        "unvr1.head()"
      ],
      "execution_count": 83,
      "outputs": [
        {
          "output_type": "execute_result",
          "data": {
            "text/plain": [
              "0    27570.74\n",
              "1    27390.83\n",
              "2    27930.55\n",
              "3    28425.29\n",
              "4    27975.53\n",
              "Name: Adj Close, dtype: float64"
            ]
          },
          "metadata": {
            "tags": []
          },
          "execution_count": 83
        }
      ]
    },
    {
      "cell_type": "markdown",
      "metadata": {
        "id": "DCUx0CRLxZ3A",
        "colab_type": "text"
      },
      "source": [
        "**Shares value development**"
      ]
    },
    {
      "cell_type": "markdown",
      "metadata": {
        "id": "LKBt5vodKQcV",
        "colab_type": "text"
      },
      "source": [
        "WSKT"
      ]
    },
    {
      "cell_type": "code",
      "metadata": {
        "id": "PQ5lJX73w7VR",
        "colab_type": "code",
        "colab": {}
      },
      "source": [
        "wskt_ac = wskt1\n",
        "wskt_Y= list(range(0,len(wskt1)))\n",
        "wskt_Y[0] = ''\n",
        "for i in range(0, len(wskt1)):\n",
        "  if i == 1:\n",
        "    wskt_Y[i] = wskt_ac[i]/wskt_ac[i-1]\n",
        "    print('Yt[%d] = %.2f' % (i, wskt_Y[i]))\n",
        "  elif i>1:  \n",
        "    if (wskt_ac[i-2]<=wskt_ac[i-1] and wskt_ac[i-1]<=wskt_ac[i]) or (wskt_ac[i-2]>=wskt_ac[i-1] and wskt_ac[i-1]>=wskt_ac[i]):\n",
        "        wskt_Y[i] = wskt_Y[i-1] * wskt_ac[i] / wskt_ac[i-1]\n",
        "        print('Yt[%d] = %.2f' %(i, wskt_Y[i]))\n",
        "    else:\n",
        "        wskt_Y[i] = wskt_ac[i]/wskt_ac[i-1]\n",
        "        print('Yt[%d] = %.2f' %(i, wskt_Y[i]))\n",
        "  else:   \n",
        "    print('Yt[0] is starting point')"
      ],
      "execution_count": 0,
      "outputs": []
    },
    {
      "cell_type": "code",
      "metadata": {
        "id": "qqJoV_Tv6GKM",
        "colab_type": "code",
        "colab": {}
      },
      "source": [
        "wskt_y = list(range(0,len(wskt)))\n",
        "for i in range(1, len(wskt)):\n",
        "    wskt_y[i] = (wskt_Y[i] - 1)\n",
        "    print('yt[%d] = %.2f %%' %(i,wskt_y[i]))"
      ],
      "execution_count": 0,
      "outputs": []
    },
    {
      "cell_type": "markdown",
      "metadata": {
        "id": "4EAV3hQbKUwF",
        "colab_type": "text"
      },
      "source": [
        "UNVR"
      ]
    },
    {
      "cell_type": "code",
      "metadata": {
        "id": "FDLjHWKwKWnl",
        "colab_type": "code",
        "colab": {}
      },
      "source": [
        "unvr_ac = unvr1\n",
        "unvr_Y= list(range(0,len(unvr1)))\n",
        "unvr_Y[0] = ''\n",
        "for i in range(0, len(unvr1)):\n",
        "  if i == 1:\n",
        "    unvr_Y[i] = unvr_ac[i]/unvr_ac[i-1]\n",
        "    print('Yt[%d] = %.2f' % (i, unvr_Y[i]))\n",
        "  elif i>1:  \n",
        "    if (unvr_ac[i-2]<=unvr_ac[i-1] and unvr_ac[i-1]<=unvr_ac[i]) or (unvr_ac[i-2]>=unvr_ac[i-1] and unvr_ac[i-1]>=unvr_ac[i]):\n",
        "        unvr_Y[i] = unvr_Y[i-1] * unvr_ac[i] / unvr_ac[i-1]\n",
        "        print('Yt[%d] = %.2f' %(i, unvr_Y[i]))\n",
        "    else:\n",
        "        unvr_Y[i] = unvr_ac[i]/unvr_ac[i-1]\n",
        "        print('Yt[%d] = %.2f' %(i, unvr_Y[i]))\n",
        "  else:   \n",
        "    print('Yt[0] is starting point')"
      ],
      "execution_count": 0,
      "outputs": []
    },
    {
      "cell_type": "code",
      "metadata": {
        "id": "80owNsktQNq2",
        "colab_type": "code",
        "colab": {}
      },
      "source": [
        "unvr_y = list(range(0,len(unvr)))\n",
        "for i in range(1, len(unvr)):\n",
        "    unvr_y[i] = (unvr_Y[i] - 1)\n",
        "    print('yt[%d] = %.2f %%' %(i,unvr_y[i]))"
      ],
      "execution_count": 0,
      "outputs": []
    },
    {
      "cell_type": "markdown",
      "metadata": {
        "id": "8_CdBW3DSuAE",
        "colab_type": "text"
      },
      "source": [
        "State Space"
      ]
    },
    {
      "cell_type": "code",
      "metadata": {
        "id": "KxgLOmsAWmA1",
        "colab_type": "code",
        "colab": {
          "base_uri": "https://localhost:8080/",
          "height": 51
        },
        "outputId": "714b3879-c7e7-41ba-b2fb-667418893f40"
      },
      "source": [
        "#SMA UNVR\n",
        "import math\n",
        "\n",
        "sma = unvr1.mean()\n",
        "for i in range(1, len(unvr)):\n",
        "  temp = unvr1[i] - sma\n",
        "  temp = temp**2 \n",
        "  temp = temp + temp\n",
        "stdev = math.sqrt(temp/len(unvr))\n",
        "stdev = stdev/100\n",
        "print(temp)\n",
        "print (\"%.2f %%\" % stdev)"
      ],
      "execution_count": 97,
      "outputs": [
        {
          "output_type": "stream",
          "text": [
            "4613863.114513023\n",
            "0.98 %\n"
          ],
          "name": "stdout"
        }
      ]
    },
    {
      "cell_type": "code",
      "metadata": {
        "id": "1Evo472X6Zo7",
        "colab_type": "code",
        "colab": {
          "base_uri": "https://localhost:8080/",
          "height": 51
        },
        "outputId": "7775947b-0ccb-444a-fc61-0eb4d13ca96a"
      },
      "source": [
        "#SMA WSKT\n",
        "import math\n",
        "\n",
        "sma = wskt1.mean()\n",
        "for i in range(1, len(wskt)):\n",
        "  temp = wskt1[i] - sma\n",
        "  temp = temp**2 \n",
        "  temp = temp + temp\n",
        "stdev = math.sqrt(temp/len(wskt))\n",
        "stdev = stdev/100\n",
        "print(temp)\n",
        "print (\"%.2f %%\" % stdev)"
      ],
      "execution_count": 104,
      "outputs": [
        {
          "output_type": "stream",
          "text": [
            "238536.15622375757\n",
            "0.22 %\n"
          ],
          "name": "stdout"
        }
      ]
    },
    {
      "cell_type": "code",
      "metadata": {
        "id": "utc-6EsqD44Q",
        "colab_type": "code",
        "colab": {
          "base_uri": "https://localhost:8080/",
          "height": 85
        },
        "outputId": "161ad3ec-63ad-4e2c-f5fc-9b9256f4eabe"
      },
      "source": [
        "k = 0.1\n",
        "delta = k * stdev\n",
        "state = list(range(0,len(wskt)))\n",
        "for i in range(1, len(wskt)):\n",
        "  if -3*delta <= wskt_y[i] <-1.5*delta:\n",
        "    state[i] = \"D2\"\n",
        "  elif -1.5*delta <= wskt_y[i] <0:\n",
        "    state[i] = \"D1\"\n",
        "  elif 0 <= wskt_y[i] < 1.5*delta:\n",
        "    state[i] = \"G1\"\n",
        "  elif 1.5*delta <= wskt_y[i] < 3*delta:\n",
        "    state[i] = \"G2\"\n",
        "  \n",
        "print('G1 = ',state.count(\"G1\"))\n",
        "print('G2 = ',state.count(\"G2\"))\n",
        "print('D1 = ',state.count(\"D1\"))\n",
        "print('D2 = ',state.count(\"D2\"))"
      ],
      "execution_count": 154,
      "outputs": [
        {
          "output_type": "stream",
          "text": [
            "G1 =  169\n",
            "G2 =  65\n",
            "D1 =  163\n",
            "D2 =  32\n"
          ],
          "name": "stdout"
        }
      ]
    },
    {
      "cell_type": "code",
      "metadata": {
        "id": "V4VQ9nbfErID",
        "colab_type": "code",
        "colab": {
          "base_uri": "https://localhost:8080/",
          "height": 204
        },
        "outputId": "4ea5e7ce-2af0-4abb-bb92-4acef5914367"
      },
      "source": [
        "#Markov Chain Probability\n",
        "transition = list(range(0,11))\n",
        "\n",
        "for i in range(1, len(state)):\n",
        "  if state[i-1] != state[i]:\n",
        "    if state[i-1] == 'G1':\n",
        "      if state[i] == 'G2':\n",
        "        transition[1] += 1\n",
        "      elif state[i] == 'D2':\n",
        "        transition[2] += 1\n",
        "      elif state[i] == 'D1':\n",
        "        transition[3] += 1\n",
        "    elif state[i-1] == 'G2':\n",
        "      if state[i] == 'D1':\n",
        "        transition[4] += 1\n",
        "      elif state[i] == 'D2':\n",
        "        transition[5] += 1\n",
        "    elif state[i-1] == 'D2':\n",
        "      if state[i] == 'G1':\n",
        "        transition[6] += 1\n",
        "      elif state[i] == 'G2':\n",
        "        transition[7] += 1\n",
        "    elif state[i-1] == 'D1':\n",
        "      if state[i] == 'D2':\n",
        "        transition[8] += 1\n",
        "      elif state[i] == 'G1':\n",
        "        transition[9] += 1\n",
        "      elif state[i] == 'G2':\n",
        "        transition[10] += 1\n",
        "  else:\n",
        "     transition[0] += 1\n",
        "\n",
        "sum_G1 = transition[1]+transition[2]+transition[3]\n",
        "sum_G2 = transition[4]+transition[5]\n",
        "sum_D1 = transition[8]+transition[9]+transition[10]\n",
        "sum_D2 = transition[6]+transition[7]\n",
        "\n",
        "\n",
        "print(\"TRANSITION PROBABILITY\")\n",
        "print('G1 => G2 : %d | %.3f' %(transition[1], transition[1]/sum_G1))\n",
        "print('G1 => D2 : %d | %.3f'%(transition[2], transition[2]/sum_G1))\n",
        "print('G1 => D1 : %d | %.3f'%(transition[3], transition[3]/sum_G1))\n",
        "print('G2 => D1 : %d | %.3f'%(transition[4], transition[4]/sum_G2))\n",
        "print('G2 => D2 : %d | %.3f'%(transition[5], transition[5]/sum_G2))\n",
        "print('D2 => G1 : %d | %.3f'%(transition[6], transition[6]/sum_D2))\n",
        "print('D2 => G2 : %d | %.3f'%(transition[7], transition[7]/sum_D2))\n",
        "print('D1 => D2 : %d | %.3f'%(transition[8], transition[8]/sum_D1))\n",
        "print('D1 => G1 : %d | %.3f'%(transition[9], transition[9]/sum_D1))\n",
        "print('D1 => G2 : %d | %.3f' %(transition[10], transition[10]/sum_D1))\n"
      ],
      "execution_count": 176,
      "outputs": [
        {
          "output_type": "stream",
          "text": [
            "TRANSITION PROBABILITY\n",
            "G1 => G2 : 26 | 0.274\n",
            "G1 => D2 : 5 | 0.053\n",
            "G1 => D1 : 64 | 0.674\n",
            "G2 => D1 : 28 | 0.800\n",
            "G2 => D2 : 7 | 0.200\n",
            "D2 => G1 : 18 | 0.667\n",
            "D2 => G2 : 9 | 0.333\n",
            "D1 => D2 : 22 | 0.182\n",
            "D1 => G1 : 79 | 0.653\n",
            "D1 => G2 : 20 | 0.165\n"
          ],
          "name": "stdout"
        }
      ]
    },
    {
      "cell_type": "markdown",
      "metadata": {
        "id": "55BsLN-GR9j4",
        "colab_type": "text"
      },
      "source": [
        "**CAPITAL VALUE**"
      ]
    },
    {
      "cell_type": "markdown",
      "metadata": {
        "id": "oeIMOyTMSBUK",
        "colab_type": "text"
      },
      "source": [
        "\n",
        "G --> Sell\n",
        "D --> Buy\n",
        "\n"
      ]
    },
    {
      "cell_type": "code",
      "metadata": {
        "id": "6T9UPbPPSAKK",
        "colab_type": "code",
        "colab": {}
      },
      "source": [
        "C0 = 100000\n",
        "for i in range(1, len(unvr)):\n",
        "  sum_temp = "
      ],
      "execution_count": 0,
      "outputs": []
    },
    {
      "cell_type": "markdown",
      "metadata": {
        "id": "SG1Hrw73AOaK",
        "colab_type": "text"
      },
      "source": [
        "Plot\n",
        "\n"
      ]
    },
    {
      "cell_type": "code",
      "metadata": {
        "id": "aoHFUkBj-HWf",
        "colab_type": "code",
        "colab": {
          "base_uri": "https://localhost:8080/",
          "height": 232
        },
        "outputId": "9360f5a3-7181-4fc7-ea80-0299f08d151a"
      },
      "source": [
        "# Make traces for graph\n",
        "import matplotlib.pyplot as plt\n",
        "import plotly.graph_objects as go\n",
        "\n",
        "trace1 = go.Figure()\n",
        "\n",
        "trace1.add_trace(go.Scatter(x=wskt[\"Date\"],y=wskt_Y))\n",
        "\n",
        "trace1.update_yaxes(automargin=True)\n",
        "\n",
        "trace1.update_layout(autosize=True)\n",
        "\n",
        "trace2 = go.Figure()\n",
        "\n",
        "trace2.add_trace(go.Scatter(x=unvr[\"Date\"],y=unvr_Y))\n",
        "\n",
        "trace2.update_yaxes(automargin=True)\n",
        "\n",
        "trace2.update_layout(autosize=True)\n",
        "\n",
        "plt.plot(trace1)\n",
        "plt.plot(trace2)\n"
      ],
      "execution_count": 1,
      "outputs": [
        {
          "output_type": "error",
          "ename": "NameError",
          "evalue": "ignored",
          "traceback": [
            "\u001b[0;31m---------------------------------------------------------------------------\u001b[0m",
            "\u001b[0;31mNameError\u001b[0m                                 Traceback (most recent call last)",
            "\u001b[0;32m<ipython-input-1-371270dfc835>\u001b[0m in \u001b[0;36m<module>\u001b[0;34m()\u001b[0m\n\u001b[1;32m      4\u001b[0m \u001b[0mtrace1\u001b[0m \u001b[0;34m=\u001b[0m \u001b[0mgo\u001b[0m\u001b[0;34m.\u001b[0m\u001b[0mFigure\u001b[0m\u001b[0;34m(\u001b[0m\u001b[0;34m)\u001b[0m\u001b[0;34m\u001b[0m\u001b[0;34m\u001b[0m\u001b[0m\n\u001b[1;32m      5\u001b[0m \u001b[0;34m\u001b[0m\u001b[0m\n\u001b[0;32m----> 6\u001b[0;31m \u001b[0mtrace1\u001b[0m\u001b[0;34m.\u001b[0m\u001b[0madd_trace\u001b[0m\u001b[0;34m(\u001b[0m\u001b[0mgo\u001b[0m\u001b[0;34m.\u001b[0m\u001b[0mScatter\u001b[0m\u001b[0;34m(\u001b[0m\u001b[0mx\u001b[0m\u001b[0;34m=\u001b[0m\u001b[0mwskt\u001b[0m\u001b[0;34m[\u001b[0m\u001b[0;34m\"Date\"\u001b[0m\u001b[0;34m]\u001b[0m\u001b[0;34m,\u001b[0m\u001b[0my\u001b[0m\u001b[0;34m=\u001b[0m\u001b[0mwskt_Y\u001b[0m\u001b[0;34m)\u001b[0m\u001b[0;34m)\u001b[0m\u001b[0;34m\u001b[0m\u001b[0;34m\u001b[0m\u001b[0m\n\u001b[0m\u001b[1;32m      7\u001b[0m \u001b[0;34m\u001b[0m\u001b[0m\n\u001b[1;32m      8\u001b[0m \u001b[0mtrace1\u001b[0m\u001b[0;34m.\u001b[0m\u001b[0mupdate_yaxes\u001b[0m\u001b[0;34m(\u001b[0m\u001b[0mautomargin\u001b[0m\u001b[0;34m=\u001b[0m\u001b[0;32mTrue\u001b[0m\u001b[0;34m)\u001b[0m\u001b[0;34m\u001b[0m\u001b[0;34m\u001b[0m\u001b[0m\n",
            "\u001b[0;31mNameError\u001b[0m: name 'wskt' is not defined"
          ]
        }
      ]
    }
  ]
}